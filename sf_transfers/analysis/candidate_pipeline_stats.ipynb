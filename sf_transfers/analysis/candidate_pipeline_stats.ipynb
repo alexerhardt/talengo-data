{
 "cells": [
  {
   "cell_type": "code",
   "id": "initial_id",
   "metadata": {
    "collapsed": true
   },
   "source": [
    "import pandas as pd\n",
    "import matplotlib.pyplot as plt\n",
    "from collections import Counter\n",
    "from config import get_sf_prod\n",
    "\n",
    "def query_data():\n",
    "    sf = get_sf_prod()\n",
    "    query = \"\"\"\n",
    "    SELECT Phase__c, Estatus__c, OfferAccepted__c, DateOffered__c \n",
    "    FROM PDBContactJoin__c\n",
    "    WHERE Phase__c != NULL\n",
    "    \"\"\"\n",
    "    result = sf.query_all(query)\n",
    "    records = result['records']\n",
    "    return pd.DataFrame(records)\n",
    "\n",
    "def plot_status_percentage(data, phase):\n",
    "    phase_data = data[data['Phase__c'] == phase].fillna('Ninguno')\n",
    "    status_counts = Counter(phase_data['Estatus__c'])\n",
    "    total_records = len(phase_data)\n",
    "    percentages = {k: (v / total_records) * 100 for k, v in status_counts.items()}\n",
    "    \n",
    "    plt.barh(list(percentages.keys()), list(percentages.values()), color='skyblue')\n",
    "    plt.xlabel('% de registros')\n",
    "    plt.title(f'Distribución de \"Estatus__c\" en fase {phase}')\n",
    "    plt.show()\n",
    "\n",
    "def plot_offer_percentage(data, phase):\n",
    "    phase_data = data[data['Phase__c'] == phase].fillna('Ninguno')\n",
    "    status_counts = Counter(phase_data['OfferAccepted__c'])\n",
    "    total_records = len(phase_data)\n",
    "    percentages = {k: (v / total_records) * 100 for k, v in status_counts.items()}\n",
    "    \n",
    "    plt.barh(list(percentages.keys()), list(percentages.values()), color='skyblue')\n",
    "    plt.xlabel('% de registros')\n",
    "    plt.title(f'Distribución de OfferAccepted_c en fase {phase}')\n",
    "    plt.show()\n",
    "    \n",
    "    non_null_dates_count = (phase_data['DateOffered__c'] == 'Ninguno').sum()\n",
    "    non_null_dates_percentage = (non_null_dates_count / total_records) * 100\n",
    "    print(f\"Percentage of Non-null Date Offered for Phase {phase}: {non_null_dates_percentage}\")\n",
    "\n",
    "\n",
    "def generate_plots():\n",
    "    data = query_data()\n",
    "\n",
    "    for phase in sorted(data['Phase__c'].unique()):\n",
    "        plot_status_percentage(data, phase)\n",
    "        if phase.startswith('7'):\n",
    "            plot_offer_percentage(data, phase)\n",
    "\n",
    "# Run the plotting functions\n",
    "generate_plots()"
   ],
   "outputs": [],
   "execution_count": null
  },
  {
   "metadata": {},
   "cell_type": "code",
   "source": "",
   "id": "31727fb4905b06d2",
   "outputs": [],
   "execution_count": null
  }
 ],
 "metadata": {
  "kernelspec": {
   "display_name": "Python 3",
   "language": "python",
   "name": "python3"
  },
  "language_info": {
   "codemirror_mode": {
    "name": "ipython",
    "version": 2
   },
   "file_extension": ".py",
   "mimetype": "text/x-python",
   "name": "python",
   "nbconvert_exporter": "python",
   "pygments_lexer": "ipython2",
   "version": "2.7.6"
  }
 },
 "nbformat": 4,
 "nbformat_minor": 5
}

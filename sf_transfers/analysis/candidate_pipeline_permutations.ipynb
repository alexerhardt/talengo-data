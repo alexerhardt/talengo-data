{
 "cells": [
  {
   "cell_type": "code",
   "id": "f87c2d4ef4c48f76",
   "metadata": {
    "collapsed": true
   },
   "source": [
    "import pandas as pd\n",
    "from config import get_sf_prod\n",
    "from itables import init_notebook_mode, show\n",
    "\n",
    "init_notebook_mode(all_interactive=True)\n",
    "\n",
    "sf = get_sf_prod()\n",
    "\n",
    "query = \"\"\"\n",
    "SELECT Phase__c, Estatus__c, Declined__c, Rejected__c, Formacion__c, Idiomas__c, Experiencia_Conocimientos_Tecnicos__c, Nivel_Seniority__c, Remuneracion__c, No_interes_en_el_sector__c, No_interes_en_la_compania__c, Posicion__c, Ubicacion__c, Salario__c, No_quiere_cambios_otros__c\n",
    "FROM PDBContactJoin__c \n",
    "\"\"\"\n",
    "\n",
    "data = sf.query_all(query)\n",
    "records = data['records']\n",
    "df = pd.DataFrame(records).drop(columns='attributes')"
   ],
   "outputs": [],
   "execution_count": null
  },
  {
   "metadata": {},
   "cell_type": "code",
   "source": [
    "# Handle missing values and ensure correct data types\n",
    "df['Phase__c'] = df['Phase__c'].fillna('')\n",
    "df['Estatus__c'] = df['Estatus__c'].fillna('')\n",
    "df['Declined__c'] = df['Declined__c'].fillna(False).astype(bool)\n",
    "df['Rejected__c'] = df['Rejected__c'].fillna(False).astype(bool)\n",
    "\n",
    "# Handle missing values for extra fields\n",
    "extra_fields = [\n",
    "    'Formacion__c', 'Idiomas__c', 'Experiencia_Conocimientos_Tecnicos__c', 'Nivel_Seniority__c',\n",
    "    'Remuneracion__c', 'No_interes_en_el_sector__c', 'No_interes_en_la_compania__c',\n",
    "    'Posicion__c', 'Ubicacion__c', 'Salario__c', 'No_quiere_cambios_otros__c'\n",
    "]\n",
    "for field in extra_fields:\n",
    "    df[field] = df[field].fillna('')\n",
    "\n",
    "# Create boolean columns for the states and their combinations\n",
    "df['discarded'] = df['Estatus__c'] == 'Descartado'\n",
    "df['declined'] = df['Declined__c']\n",
    "df['rejected'] = df['Rejected__c']\n",
    "\n",
    "df['discarded_and_declined'] = df['discarded'] & df['declined']\n",
    "df['discarded_and_rejected'] = df['discarded'] & df['rejected']\n",
    "df['declined_and_rejected'] = df['declined'] & df['rejected']\n",
    "\n",
    "# Create a column to indicate if a record has a discarded reason\n",
    "df[\"has_discarded_reason\"] = df[\"Formacion__c\"] | df[\"Idiomas__c\"] | df[\"Experiencia_Conocimientos_Tecnicos__c\"] | df[\"Nivel_Seniority__c\"]\n",
    "df[\"has_rejection_reason\"] = df[\"Remuneracion__c\"] | df[\"No_interes_en_el_sector__c\"] | df[\"No_interes_en_la_compania__c\"] | df[\"Posicion__c\"] | df[\"Ubicacion__c\"] | df[\"Salario__c\"] | df[\"No_quiere_cambios_otros__c\"]\n",
    "\n"
   ],
   "id": "e3342fd82ffa265d",
   "outputs": [],
   "execution_count": null
  },
  {
   "metadata": {},
   "cell_type": "code",
   "source": [
    "result_rows = []\n",
    "phases = sorted(df['Phase__c'].unique())\n",
    "for phase in phases:\n",
    "    df_phase = df[df['Phase__c'] == phase]\n",
    "    total = len(df_phase)\n",
    "    if total == 0:\n",
    "        continue  # Skip phases with no data\n",
    "\n",
    "    counts = {\n",
    "        'Discarded (New) %': df_phase['discarded'].sum(),\n",
    "        'Rejected (Old) %': df_phase['rejected'].sum(),\n",
    "        'Declined (Old) %': df_phase['declined'].sum(),\n",
    "        'Discarded and Declined %': df_phase['discarded_and_declined'].sum(),\n",
    "        'Discarded and Rejected %': df_phase['discarded_and_rejected'].sum(),\n",
    "        'Declined and Rejected %': df_phase['declined_and_rejected'].sum(),\n",
    "        'Discarded with reason %': df_phase['has_discarded_reason'].sum(),\n",
    "        'Rejected with reason %': df_phase['has_rejection_reason'].sum(),\n",
    "    }\n",
    "\n",
    "    percentages = {k: (v / total) * 100 for k, v in counts.items()}\n",
    "    result_row = {'Phase': phase, 'Total': total}\n",
    "    result_row.update(percentages)\n",
    "    result_rows.append(result_row)\n",
    "\n",
    "# Create a DataFrame for the results\n",
    "result_df = pd.DataFrame(result_rows)\n",
    "\n",
    "# Round percentages to two decimal places and format\n",
    "percentage_columns = [col for col in result_df.columns if '%' in col]\n",
    "result_df[percentage_columns] = result_df[percentage_columns].round(2)\n",
    "\n",
    "# Optionally, format percentages with '%' sign\n",
    "for col in percentage_columns:\n",
    "    result_df[col] = result_df[col].map('{:.2f}%'.format)\n",
    "\n",
    "# Set 'Phase' as the index\n",
    "result_df = result_df.set_index('Phase')\n",
    "\n",
    "# Display the result\n",
    "show(result_df)"
   ],
   "id": "initial_id",
   "outputs": [],
   "execution_count": null
  }
 ],
 "metadata": {
  "kernelspec": {
   "display_name": "Python 3",
   "language": "python",
   "name": "python3"
  },
  "language_info": {
   "codemirror_mode": {
    "name": "ipython",
    "version": 2
   },
   "file_extension": ".py",
   "mimetype": "text/x-python",
   "name": "python",
   "nbconvert_exporter": "python",
   "pygments_lexer": "ipython2",
   "version": "2.7.6"
  }
 },
 "nbformat": 4,
 "nbformat_minor": 5
}

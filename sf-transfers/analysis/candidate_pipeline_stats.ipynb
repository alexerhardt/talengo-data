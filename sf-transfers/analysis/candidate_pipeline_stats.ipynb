{
 "cells": [
  {
   "cell_type": "code",
   "id": "initial_id",
   "metadata": {
    "collapsed": true,
    "ExecuteTime": {
     "end_time": "2024-09-13T09:05:16.221365Z",
     "start_time": "2024-09-13T09:04:05.576905Z"
    }
   },
   "source": [
    "import pandas as pd\n",
    "import matplotlib.pyplot as plt\n",
    "from collections import Counter\n",
    "from config import get_sf_prod\n",
    "\n",
    "def query_data():\n",
    "    sf = get_sf_prod()\n",
    "    query = \"\"\"\n",
    "    SELECT Phase__c, Estatus__c, OfferAccepted__c, DateOffered__c \n",
    "    FROM PDBContactJoin__c\n",
    "    WHERE Phase__c != NULL\n",
    "    \"\"\"\n",
    "    result = sf.query_all(query)\n",
    "    records = result['records']\n",
    "    return pd.DataFrame(records)\n",
    "\n",
    "def plot_status_percentage(data, phase):\n",
    "    phase_data = data[data['Phase__c'] == phase].fillna('Ninguno')\n",
    "    status_counts = Counter(phase_data['Estatus__c'])\n",
    "    total_records = len(phase_data)\n",
    "    percentages = {k: (v / total_records) * 100 for k, v in status_counts.items()}\n",
    "    \n",
    "    plt.barh(list(percentages.keys()), list(percentages.values()), color='skyblue')\n",
    "    plt.xlabel('% de registros')\n",
    "    plt.title(f'Distribución de \"Estatus__c\" en fase {phase}')\n",
    "    plt.show()\n",
    "\n",
    "def plot_offer_percentage(data, phase):\n",
    "    phase_data = data[data['Phase__c'] == phase].fillna('Ninguno')\n",
    "    status_counts = Counter(phase_data['OfferAccepted__c'])\n",
    "    total_records = len(phase_data)\n",
    "    percentages = {k: (v / total_records) * 100 for k, v in status_counts.items()}\n",
    "    \n",
    "    plt.barh(list(percentages.keys()), list(percentages.values()), color='skyblue')\n",
    "    plt.xlabel('% de registros')\n",
    "    plt.title(f'Distribución de OfferAccepted_c en fase {phase}')\n",
    "    plt.show()\n",
    "    \n",
    "    non_null_dates_count = (phase_data['DateOffered__c'] == 'Ninguno').sum()\n",
    "    non_null_dates_percentage = (non_null_dates_count / total_records) * 100\n",
    "    print(f\"Percentage of Non-null Date Offered for Phase {phase}: {non_null_dates_percentage}\")\n",
    "\n",
    "\n",
    "def generate_plots():\n",
    "    data = query_data()\n",
    "\n",
    "    for phase in sorted(data['Phase__c'].unique()):\n",
    "        plot_status_percentage(data, phase)\n",
    "        if phase.startswith('7'):\n",
    "            plot_offer_percentage(data, phase)\n",
    "\n",
    "# Run the plotting functions\n",
    "generate_plots()"
   ],
   "outputs": [
    {
     "ename": "KeyboardInterrupt",
     "evalue": "",
     "output_type": "error",
     "traceback": [
      "\u001B[0;31m---------------------------------------------------------------------------\u001B[0m",
      "\u001B[0;31mKeyboardInterrupt\u001B[0m                         Traceback (most recent call last)",
      "Cell \u001B[0;32mIn[16], line 53\u001B[0m\n\u001B[1;32m     50\u001B[0m             plot_offer_percentage(data, phase)\n\u001B[1;32m     52\u001B[0m \u001B[38;5;66;03m# Run the plotting functions\u001B[39;00m\n\u001B[0;32m---> 53\u001B[0m \u001B[43mgenerate_plots\u001B[49m\u001B[43m(\u001B[49m\u001B[43m)\u001B[49m\n",
      "Cell \u001B[0;32mIn[16], line 48\u001B[0m, in \u001B[0;36mgenerate_plots\u001B[0;34m()\u001B[0m\n\u001B[1;32m     45\u001B[0m data \u001B[38;5;241m=\u001B[39m query_data()\n\u001B[1;32m     47\u001B[0m \u001B[38;5;28;01mfor\u001B[39;00m phase \u001B[38;5;129;01min\u001B[39;00m \u001B[38;5;28msorted\u001B[39m(data[\u001B[38;5;124m'\u001B[39m\u001B[38;5;124mPhase__c\u001B[39m\u001B[38;5;124m'\u001B[39m]\u001B[38;5;241m.\u001B[39munique()):\n\u001B[0;32m---> 48\u001B[0m     \u001B[43mplot_status_percentage\u001B[49m\u001B[43m(\u001B[49m\u001B[43mdata\u001B[49m\u001B[43m,\u001B[49m\u001B[43m \u001B[49m\u001B[43mphase\u001B[49m\u001B[43m)\u001B[49m\n\u001B[1;32m     49\u001B[0m     \u001B[38;5;28;01mif\u001B[39;00m phase\u001B[38;5;241m.\u001B[39mstartswith(\u001B[38;5;124m'\u001B[39m\u001B[38;5;124m7\u001B[39m\u001B[38;5;124m'\u001B[39m):\n\u001B[1;32m     50\u001B[0m         plot_offer_percentage(data, phase)\n",
      "Cell \u001B[0;32mIn[16], line 20\u001B[0m, in \u001B[0;36mplot_status_percentage\u001B[0;34m(data, phase)\u001B[0m\n\u001B[1;32m     18\u001B[0m phase_data \u001B[38;5;241m=\u001B[39m data[data[\u001B[38;5;124m'\u001B[39m\u001B[38;5;124mPhase__c\u001B[39m\u001B[38;5;124m'\u001B[39m] \u001B[38;5;241m==\u001B[39m phase]\u001B[38;5;241m.\u001B[39mfillna(\u001B[38;5;124m'\u001B[39m\u001B[38;5;124mNinguno\u001B[39m\u001B[38;5;124m'\u001B[39m)\n\u001B[1;32m     19\u001B[0m status_counts \u001B[38;5;241m=\u001B[39m Counter(phase_data[\u001B[38;5;124m'\u001B[39m\u001B[38;5;124mEstatus__c\u001B[39m\u001B[38;5;124m'\u001B[39m])\n\u001B[0;32m---> 20\u001B[0m total_records \u001B[38;5;241m=\u001B[39m \u001B[38;5;28;43mlen\u001B[39;49m(phase_data)\n\u001B[1;32m     21\u001B[0m percentages \u001B[38;5;241m=\u001B[39m {k: (v \u001B[38;5;241m/\u001B[39m total_records) \u001B[38;5;241m*\u001B[39m \u001B[38;5;241m100\u001B[39m \u001B[38;5;28;01mfor\u001B[39;00m k, v \u001B[38;5;129;01min\u001B[39;00m status_counts\u001B[38;5;241m.\u001B[39mitems()}\n\u001B[1;32m     23\u001B[0m plt\u001B[38;5;241m.\u001B[39mbarh(\u001B[38;5;28mlist\u001B[39m(percentages\u001B[38;5;241m.\u001B[39mkeys()), \u001B[38;5;28mlist\u001B[39m(percentages\u001B[38;5;241m.\u001B[39mvalues()), color\u001B[38;5;241m=\u001B[39m\u001B[38;5;124m'\u001B[39m\u001B[38;5;124mskyblue\u001B[39m\u001B[38;5;124m'\u001B[39m)\n",
      "File \u001B[0;32m_pydevd_bundle/pydevd_cython_darwin_312_64.pyx:1187\u001B[0m, in \u001B[0;36m_pydevd_bundle.pydevd_cython_darwin_312_64.SafeCallWrapper.__call__\u001B[0;34m()\u001B[0m\n",
      "File \u001B[0;32m_pydevd_bundle/pydevd_cython_darwin_312_64.pyx:627\u001B[0m, in \u001B[0;36m_pydevd_bundle.pydevd_cython_darwin_312_64.PyDBFrame.trace_dispatch\u001B[0;34m()\u001B[0m\n",
      "File \u001B[0;32m_pydevd_bundle/pydevd_cython_darwin_312_64.pyx:937\u001B[0m, in \u001B[0;36m_pydevd_bundle.pydevd_cython_darwin_312_64.PyDBFrame.trace_dispatch\u001B[0;34m()\u001B[0m\n",
      "File \u001B[0;32m_pydevd_bundle/pydevd_cython_darwin_312_64.pyx:928\u001B[0m, in \u001B[0;36m_pydevd_bundle.pydevd_cython_darwin_312_64.PyDBFrame.trace_dispatch\u001B[0;34m()\u001B[0m\n",
      "File \u001B[0;32m_pydevd_bundle/pydevd_cython_darwin_312_64.pyx:585\u001B[0m, in \u001B[0;36m_pydevd_bundle.pydevd_cython_darwin_312_64.PyDBFrame.do_wait_suspend\u001B[0;34m()\u001B[0m\n",
      "File \u001B[0;32m/Applications/PyCharm.app/Contents/plugins/python/helpers/pydev/pydevd.py:1201\u001B[0m, in \u001B[0;36mPyDB.do_wait_suspend\u001B[0;34m(self, thread, frame, event, arg, send_suspend_message, is_unhandled_exception)\u001B[0m\n\u001B[1;32m   1198\u001B[0m         from_this_thread\u001B[38;5;241m.\u001B[39mappend(frame_id)\n\u001B[1;32m   1200\u001B[0m \u001B[38;5;28;01mwith\u001B[39;00m \u001B[38;5;28mself\u001B[39m\u001B[38;5;241m.\u001B[39m_threads_suspended_single_notification\u001B[38;5;241m.\u001B[39mnotify_thread_suspended(thread_id, stop_reason):\n\u001B[0;32m-> 1201\u001B[0m     \u001B[38;5;28;43mself\u001B[39;49m\u001B[38;5;241;43m.\u001B[39;49m\u001B[43m_do_wait_suspend\u001B[49m\u001B[43m(\u001B[49m\u001B[43mthread\u001B[49m\u001B[43m,\u001B[49m\u001B[43m \u001B[49m\u001B[43mframe\u001B[49m\u001B[43m,\u001B[49m\u001B[43m \u001B[49m\u001B[43mevent\u001B[49m\u001B[43m,\u001B[49m\u001B[43m \u001B[49m\u001B[43marg\u001B[49m\u001B[43m,\u001B[49m\u001B[43m \u001B[49m\u001B[43msuspend_type\u001B[49m\u001B[43m,\u001B[49m\u001B[43m \u001B[49m\u001B[43mfrom_this_thread\u001B[49m\u001B[43m)\u001B[49m\n",
      "File \u001B[0;32m/Applications/PyCharm.app/Contents/plugins/python/helpers/pydev/pydevd.py:1216\u001B[0m, in \u001B[0;36mPyDB._do_wait_suspend\u001B[0;34m(self, thread, frame, event, arg, suspend_type, from_this_thread)\u001B[0m\n\u001B[1;32m   1213\u001B[0m             \u001B[38;5;28mself\u001B[39m\u001B[38;5;241m.\u001B[39m_call_mpl_hook()\n\u001B[1;32m   1215\u001B[0m         \u001B[38;5;28mself\u001B[39m\u001B[38;5;241m.\u001B[39mprocess_internal_commands()\n\u001B[0;32m-> 1216\u001B[0m         \u001B[43mtime\u001B[49m\u001B[38;5;241;43m.\u001B[39;49m\u001B[43msleep\u001B[49m\u001B[43m(\u001B[49m\u001B[38;5;241;43m0.01\u001B[39;49m\u001B[43m)\u001B[49m\n\u001B[1;32m   1218\u001B[0m \u001B[38;5;28mself\u001B[39m\u001B[38;5;241m.\u001B[39mcancel_async_evaluation(get_current_thread_id(thread), \u001B[38;5;28mstr\u001B[39m(\u001B[38;5;28mid\u001B[39m(frame)))\n\u001B[1;32m   1220\u001B[0m \u001B[38;5;66;03m# process any stepping instructions\u001B[39;00m\n",
      "\u001B[0;31mKeyboardInterrupt\u001B[0m: "
     ]
    }
   ],
   "execution_count": 16
  },
  {
   "metadata": {},
   "cell_type": "code",
   "outputs": [],
   "execution_count": null,
   "source": "",
   "id": "31727fb4905b06d2"
  }
 ],
 "metadata": {
  "kernelspec": {
   "display_name": "Python 3",
   "language": "python",
   "name": "python3"
  },
  "language_info": {
   "codemirror_mode": {
    "name": "ipython",
    "version": 2
   },
   "file_extension": ".py",
   "mimetype": "text/x-python",
   "name": "python",
   "nbconvert_exporter": "python",
   "pygments_lexer": "ipython2",
   "version": "2.7.6"
  }
 },
 "nbformat": 4,
 "nbformat_minor": 5
}

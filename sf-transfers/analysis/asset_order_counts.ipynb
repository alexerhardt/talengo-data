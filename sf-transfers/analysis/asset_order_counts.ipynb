{
 "cells": [
  {
   "metadata": {
    "ExecuteTime": {
     "end_time": "2024-09-11T10:13:34.459084Z",
     "start_time": "2024-09-11T10:13:33.940835Z"
    }
   },
   "cell_type": "code",
   "source": [
    "import pandas as pd\n",
    "from config import get_sf_prod\n",
    "\n",
    "sf = get_sf_prod()"
   ],
   "id": "188b0f91da1bad06",
   "outputs": [],
   "execution_count": 24
  },
  {
   "metadata": {
    "ExecuteTime": {
     "end_time": "2024-09-11T10:13:34.876183Z",
     "start_time": "2024-09-11T10:13:34.460518Z"
    }
   },
   "cell_type": "code",
   "source": [
    "# Number of Assets with a parent Opportunity in Búsqueda\n",
    "query_1 = \"SELECT Id, Order__c FROM Asset WHERE TipoPNB__c = 'Búsqueda'\"\n",
    "results_1 = sf.query_all(query_1)\n",
    "print(f\"Number of Assets with ancestor Opportunity of 'Búsqueda' type: {results_1['totalSize']}\")\n",
    "df_query_1 = pd.DataFrame(results_1['records']).drop(columns='attributes')"
   ],
   "id": "bbbc88f9dd58445e",
   "outputs": [
    {
     "name": "stdout",
     "output_type": "stream",
     "text": [
      "Number of Assets with ancestor Opportunity of 'Búsqueda' type: 1273\n"
     ]
    }
   ],
   "execution_count": 25
  },
  {
   "metadata": {
    "ExecuteTime": {
     "end_time": "2024-09-11T10:13:35.181991Z",
     "start_time": "2024-09-11T10:13:34.877208Z"
    }
   },
   "cell_type": "code",
   "source": [
    "num_order_query = \"\"\"\n",
    "SELECT Id, Quote.Opportunity.Type\n",
    "FROM Order\n",
    "WHERE Quote.Opportunity.Type = 'Búsqueda'\n",
    "\"\"\"\n",
    "num_order_results = sf.query_all(num_order_query)\n",
    "print(f\"Number of Orders with ancestor Opportunity of 'Búsqueda' type: {num_order_results['totalSize']}\")\n"
   ],
   "id": "75037f108e8dc1d",
   "outputs": [
    {
     "name": "stdout",
     "output_type": "stream",
     "text": [
      "Number of Orders with ancestor Opportunity of 'Búsqueda' type: 1244\n"
     ]
    }
   ],
   "execution_count": 26
  },
  {
   "metadata": {
    "ExecuteTime": {
     "end_time": "2024-09-11T10:13:35.330998Z",
     "start_time": "2024-09-11T10:13:35.183775Z"
    }
   },
   "cell_type": "code",
   "source": [
    "query_2 = \"\"\"\n",
    "SELECT Order__c, COUNT(Id) \n",
    "FROM Asset WHERE TipoPNB__c = 'Búsqueda' \n",
    "GROUP BY Order__c HAVING COUNT(Id) > 1\n",
    "\"\"\"\n",
    "results_2 = sf.query_all(query_2)\n",
    "print(f\"Number of Order ids in Asset with more than one Order parent {results_2['totalSize']}\")\n",
    "\n",
    "df_query_2 = pd.DataFrame(results_2['records']).drop(columns='attributes')\n",
    "# Convert COUNT(Id) column to integer and sum it\n",
    "df_query_2['expr0'] = df_query_2['expr0'].astype(int)  # 'expr0' is typically the column name for COUNT(Id)\n",
    "total_count = df_query_2['expr0'].sum()\n",
    "print(f\"Count of Asset ids that in Orders with more than one Asset child: {total_count}\")\n"
   ],
   "id": "bfc94796990bd3bb",
   "outputs": [
    {
     "name": "stdout",
     "output_type": "stream",
     "text": [
      "Number of Order ids in Asset with more than one Order parent 27\n",
      "Count of Asset ids that in Orders with more than one Asset child: 60\n"
     ]
    }
   ],
   "execution_count": 27
  },
  {
   "metadata": {
    "ExecuteTime": {
     "end_time": "2024-09-11T10:13:58.991117Z",
     "start_time": "2024-09-11T10:13:58.821875Z"
    }
   },
   "cell_type": "code",
   "source": [
    "query_2 = \"\"\"\n",
    "SELECT Order__c, COUNT(Id) \n",
    "FROM Asset WHERE TipoPNB__c = 'Búsqueda' \n",
    "GROUP BY Order__c HAVING COUNT(Id) = 1\n",
    "\"\"\"\n",
    "\n",
    "results_2 = sf.query_all(query_2)\n",
    "print(f\"Number of Order ids in Asset with exactly one Order parent: {results_2['totalSize']}\")\n"
   ],
   "id": "fa9027717c945a41",
   "outputs": [
    {
     "name": "stdout",
     "output_type": "stream",
     "text": [
      "Number of Order ids in Asset with exactly one Order parent: 1213\n"
     ]
    }
   ],
   "execution_count": 29
  }
 ],
 "metadata": {
  "kernelspec": {
   "display_name": "Python 3",
   "language": "python",
   "name": "python3"
  },
  "language_info": {
   "codemirror_mode": {
    "name": "ipython",
    "version": 2
   },
   "file_extension": ".py",
   "mimetype": "text/x-python",
   "name": "python",
   "nbconvert_exporter": "python",
   "pygments_lexer": "ipython2",
   "version": "2.7.6"
  }
 },
 "nbformat": 4,
 "nbformat_minor": 5
}
